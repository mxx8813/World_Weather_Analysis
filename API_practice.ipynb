{
 "cells": [
  {
   "cell_type": "code",
   "execution_count": 99,
   "id": "c32118e0",
   "metadata": {},
   "outputs": [],
   "source": [
    "x = [25.12903645, 25.92017388, 26.62509167, -59.98969384, 37.30571269]\n",
    "y = [-67.59741259, 11.09532135, 74.84233102, -76.89176677, -61.13376282]\n",
    "coordinates = zip(x, y)"
   ]
  },
  {
   "cell_type": "code",
   "execution_count": 100,
   "id": "89489024",
   "metadata": {},
   "outputs": [
    {
     "name": "stdout",
     "output_type": "stream",
     "text": [
      "25.12903645 -67.59741259\n",
      "25.92017388 11.09532135\n",
      "26.62509167 74.84233102\n",
      "-59.98969384 -76.89176677\n",
      "37.30571269 -61.13376282\n"
     ]
    }
   ],
   "source": [
    "# Use the tuple() function to display the latitude and longitude combinations.\n",
    "for coordinate in coordinates:\n",
    "    print(coordinate[0], coordinate[1])"
   ]
  },
  {
   "cell_type": "code",
   "execution_count": 101,
   "id": "e7261bbd",
   "metadata": {},
   "outputs": [],
   "source": [
    "from citipy import citipy"
   ]
  },
  {
   "cell_type": "code",
   "execution_count": 102,
   "id": "bc8a48d6",
   "metadata": {},
   "outputs": [],
   "source": [
    "for coordinate in coordinates:\n",
    "    print(citipy.nearest_city(coordinate[0], coordinate[1]).city_name,\n",
    "          citipy.nearest_city(coordinate[0], coordinate[1]).country_code)"
   ]
  },
  {
   "cell_type": "code",
   "execution_count": 116,
   "id": "cea5471b",
   "metadata": {},
   "outputs": [],
   "source": [
    "# Import the requests library.\n",
    "import requests\n",
    "\n",
    "# Import the API key.\n",
    "from config import weather_api_key\n"
   ]
  },
  {
   "cell_type": "code",
   "execution_count": 117,
   "id": "56c8e9c5",
   "metadata": {},
   "outputs": [
    {
     "name": "stdout",
     "output_type": "stream",
     "text": [
      "http://api.openweathermap.org/data/2.5/weather?units=Imperial&APPID=805c16524ebd41b0ff18084df59ad750\n"
     ]
    }
   ],
   "source": [
    "# Starting URL for Weather Map API Call.\n",
    "url = \"http://api.openweathermap.org/data/2.5/weather?units=Imperial&APPID=\" + weather_api_key\n",
    "print(url)\n",
    "    "
   ]
  },
  {
   "cell_type": "code",
   "execution_count": 118,
   "id": "e4fe1c7c",
   "metadata": {},
   "outputs": [
    {
     "name": "stdout",
     "output_type": "stream",
     "text": [
      "http://api.openweathermap.org/data/2.5/weather?units=Imperial&APPID=805c16524ebd41b0ff18084df59ad750&q=Boston\n"
     ]
    }
   ],
   "source": [
    "city_url = url + \"&q=\" + \"Boston\"\n",
    "print(city_url)"
   ]
  },
  {
   "cell_type": "code",
   "execution_count": 106,
   "id": "1a3b20a6",
   "metadata": {},
   "outputs": [
    {
     "data": {
      "text/plain": [
       "200"
      ]
     },
     "execution_count": 106,
     "metadata": {},
     "output_type": "execute_result"
    }
   ],
   "source": [
    "# Make a 'Get' request for the city weather.\n",
    "city_weather = requests.get(city_url)\n",
    "city_weather.status_code"
   ]
  },
  {
   "cell_type": "code",
   "execution_count": 107,
   "id": "0ef3e607",
   "metadata": {},
   "outputs": [
    {
     "data": {
      "text/plain": [
       "'{\"coord\":{\"lon\":-71.0598,\"lat\":42.3584},\"weather\":[{\"id\":501,\"main\":\"Rain\",\"description\":\"moderate rain\",\"icon\":\"10d\"}],\"base\":\"stations\",\"main\":{\"temp\":50.34,\"feels_like\":47.86,\"temp_min\":46.94,\"temp_max\":54.14,\"pressure\":1007,\"humidity\":59},\"visibility\":10000,\"wind\":{\"speed\":19.57,\"deg\":340,\"gust\":27.63},\"rain\":{\"1h\":1.38},\"clouds\":{\"all\":75},\"dt\":1651095709,\"sys\":{\"type\":2,\"id\":2013408,\"country\":\"US\",\"sunrise\":1651052692,\"sunset\":1651102715},\"timezone\":-14400,\"id\":4930956,\"name\":\"Boston\",\"cod\":200}'"
      ]
     },
     "execution_count": 107,
     "metadata": {},
     "output_type": "execute_result"
    }
   ],
   "source": [
    "# Get the text of the 'Get' request.\n",
    "city_weather.text"
   ]
  },
  {
   "cell_type": "code",
   "execution_count": 108,
   "id": "07c1a3bb",
   "metadata": {},
   "outputs": [
    {
     "data": {
      "text/plain": [
       "{'coord': {'lon': -71.0598, 'lat': 42.3584},\n",
       " 'weather': [{'id': 501,\n",
       "   'main': 'Rain',\n",
       "   'description': 'moderate rain',\n",
       "   'icon': '10d'}],\n",
       " 'base': 'stations',\n",
       " 'main': {'temp': 50.34,\n",
       "  'feels_like': 47.86,\n",
       "  'temp_min': 46.94,\n",
       "  'temp_max': 54.14,\n",
       "  'pressure': 1007,\n",
       "  'humidity': 59},\n",
       " 'visibility': 10000,\n",
       " 'wind': {'speed': 19.57, 'deg': 340, 'gust': 27.63},\n",
       " 'rain': {'1h': 1.38},\n",
       " 'clouds': {'all': 75},\n",
       " 'dt': 1651095709,\n",
       " 'sys': {'type': 2,\n",
       "  'id': 2013408,\n",
       "  'country': 'US',\n",
       "  'sunrise': 1651052692,\n",
       "  'sunset': 1651102715},\n",
       " 'timezone': -14400,\n",
       " 'id': 4930956,\n",
       " 'name': 'Boston',\n",
       " 'cod': 200}"
      ]
     },
     "execution_count": 108,
     "metadata": {},
     "output_type": "execute_result"
    }
   ],
   "source": [
    "city_weather.json()"
   ]
  },
  {
   "cell_type": "code",
   "execution_count": 109,
   "id": "e6bcbaa6",
   "metadata": {},
   "outputs": [
    {
     "name": "stdout",
     "output_type": "stream",
     "text": [
      "City Weather found.\n"
     ]
    }
   ],
   "source": [
    "# Create an endpoint URL for a city.\n",
    "city_url = url + \"&q=\" + \"Boston\"\n",
    "city_weather = requests.get(city_url)\n",
    "if city_weather.status_code == 200:\n",
    "    print(f\"City Weather found.\")\n",
    "else:\n",
    "    print(f\"City weather not found.\")"
   ]
  },
  {
   "cell_type": "code",
   "execution_count": 110,
   "id": "98459ede",
   "metadata": {},
   "outputs": [
    {
     "name": "stdout",
     "output_type": "stream",
     "text": [
      "http://api.openweathermap.org/data/2.5/weather?units=Imperial&APPID=805c16524ebd41b0ff18084df59ad750&q=Boston\n"
     ]
    }
   ],
   "source": [
    "print(city_url)"
   ]
  },
  {
   "cell_type": "code",
   "execution_count": 111,
   "id": "d78fbc55",
   "metadata": {},
   "outputs": [
    {
     "data": {
      "text/plain": [
       "{'coord': {'lon': -71.0598, 'lat': 42.3584},\n",
       " 'weather': [{'id': 501,\n",
       "   'main': 'Rain',\n",
       "   'description': 'moderate rain',\n",
       "   'icon': '10d'}],\n",
       " 'base': 'stations',\n",
       " 'main': {'temp': 50.31,\n",
       "  'feels_like': 47.8,\n",
       "  'temp_min': 46.94,\n",
       "  'temp_max': 54.12,\n",
       "  'pressure': 1007,\n",
       "  'humidity': 59},\n",
       " 'visibility': 10000,\n",
       " 'wind': {'speed': 19.57, 'deg': 340, 'gust': 27.63},\n",
       " 'rain': {'1h': 1.15},\n",
       " 'clouds': {'all': 75},\n",
       " 'dt': 1651095902,\n",
       " 'sys': {'type': 2,\n",
       "  'id': 2013408,\n",
       "  'country': 'US',\n",
       "  'sunrise': 1651052692,\n",
       "  'sunset': 1651102715},\n",
       " 'timezone': -14400,\n",
       " 'id': 4930956,\n",
       " 'name': 'Boston',\n",
       " 'cod': 200}"
      ]
     },
     "execution_count": 111,
     "metadata": {},
     "output_type": "execute_result"
    }
   ],
   "source": [
    "# Create an endpoint URL for a city.\n",
    "city_url = url + \"&q=\" + \"Boston\"\n",
    "city_weather = requests.get(city_url)\n",
    "city_weather.json()"
   ]
  },
  {
   "cell_type": "code",
   "execution_count": 112,
   "id": "576c86c5",
   "metadata": {},
   "outputs": [],
   "source": [
    "boston_data = city_weather.json()"
   ]
  },
  {
   "cell_type": "code",
   "execution_count": 113,
   "id": "e33bcaa7",
   "metadata": {},
   "outputs": [
    {
     "data": {
      "text/plain": [
       "'US'"
      ]
     },
     "execution_count": 113,
     "metadata": {},
     "output_type": "execute_result"
    }
   ],
   "source": [
    " boston_data['sys']['country']"
   ]
  },
  {
   "cell_type": "code",
   "execution_count": 114,
   "id": "f82cb313",
   "metadata": {},
   "outputs": [
    {
     "data": {
      "text/plain": [
       "1651095902"
      ]
     },
     "execution_count": 114,
     "metadata": {},
     "output_type": "execute_result"
    }
   ],
   "source": [
    "boston_data ['dt']"
   ]
  },
  {
   "cell_type": "code",
   "execution_count": 115,
   "id": "428d3c80",
   "metadata": {},
   "outputs": [
    {
     "data": {
      "text/plain": [
       "42.3584"
      ]
     },
     "execution_count": 115,
     "metadata": {},
     "output_type": "execute_result"
    }
   ],
   "source": [
    "boston_data['coord']['lat']"
   ]
  },
  {
   "cell_type": "code",
   "execution_count": 92,
   "id": "d5f0f540",
   "metadata": {},
   "outputs": [
    {
     "data": {
      "text/plain": [
       "55.36"
      ]
     },
     "execution_count": 92,
     "metadata": {},
     "output_type": "execute_result"
    }
   ],
   "source": [
    "boston_data['main']['temp_max']"
   ]
  },
  {
   "cell_type": "code",
   "execution_count": 95,
   "id": "9a4923b9",
   "metadata": {},
   "outputs": [
    {
     "name": "stdout",
     "output_type": "stream",
     "text": [
      "42.3584 -71.0598 55.36 54 75 17.27\n"
     ]
    }
   ],
   "source": [
    "lat = boston_data['coord']['lat']\n",
    "lng = boston_data['coord']['lon']\n",
    "max_temp = boston_data ['main']['temp_max']\n",
    "humidity = boston_data['main']['humidity']\n",
    "clouds = boston_data['clouds']['all']\n",
    "wind = boston_data['wind']['speed']\n",
    "print(lat, lng, max_temp,humidity, clouds, wind)"
   ]
  },
  {
   "cell_type": "code",
   "execution_count": 98,
   "id": "031828fb",
   "metadata": {},
   "outputs": [
    {
     "data": {
      "text/plain": [
       "'2022-04-27 21:17:59'"
      ]
     },
     "execution_count": 98,
     "metadata": {},
     "output_type": "execute_result"
    }
   ],
   "source": [
    "# Import the datetime module from the datetime library.\n",
    "from datetime import datetime\n",
    "# Get the date from the JSON file.\n",
    "date = boston_data[\"dt\"]\n",
    "# Convert the UTC date to a date format with year, month, day, hours, minutes, and seconds.\n",
    "datetime.utcfromtimestamp(date).strftime('%Y-%m-%d %H:%M:%S')"
   ]
  },
  {
   "cell_type": "code",
   "execution_count": 1,
   "id": "3566d57d",
   "metadata": {},
   "outputs": [
    {
     "data": {
      "text/plain": [
       "1651105581.8674939"
      ]
     },
     "execution_count": 1,
     "metadata": {},
     "output_type": "execute_result"
    }
   ],
   "source": [
    "# Import the time module.\n",
    "import time\n",
    "# Get today's date in seconds.\n",
    "today = time.time()\n",
    "today"
   ]
  },
  {
   "cell_type": "code",
   "execution_count": 4,
   "id": "12b73909",
   "metadata": {},
   "outputs": [
    {
     "data": {
      "text/plain": [
       "'04/27/22'"
      ]
     },
     "execution_count": 4,
     "metadata": {},
     "output_type": "execute_result"
    }
   ],
   "source": [
    "today = time.strftime(\"%x\")\n",
    "today"
   ]
  },
  {
   "cell_type": "code",
   "execution_count": null,
   "id": "df17fb6e",
   "metadata": {},
   "outputs": [],
   "source": []
  }
 ],
 "metadata": {
  "kernelspec": {
   "display_name": "PythonData",
   "language": "python",
   "name": "pythondata"
  },
  "language_info": {
   "codemirror_mode": {
    "name": "ipython",
    "version": 3
   },
   "file_extension": ".py",
   "mimetype": "text/x-python",
   "name": "python",
   "nbconvert_exporter": "python",
   "pygments_lexer": "ipython3",
   "version": "3.9.7"
  }
 },
 "nbformat": 4,
 "nbformat_minor": 5
}
